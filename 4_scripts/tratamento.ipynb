{
 "cells": [
  {
   "cell_type": "code",
   "execution_count": 133,
   "metadata": {},
   "outputs": [],
   "source": [
    "import pandas as pd\n",
    "from unidecode import unidecode\n",
    "import re\n",
    "from sqlalchemy import create_engine\n"
   ]
  },
  {
   "cell_type": "code",
   "execution_count": 134,
   "metadata": {},
   "outputs": [],
   "source": [
    "dados = pd.read_csv(\"../0_bases_originais/Placa_de_Video.csv\", sep=\";\")"
   ]
  },
  {
   "cell_type": "code",
   "execution_count": 135,
   "metadata": {},
   "outputs": [
    {
     "data": {
      "text/html": [
       "<div>\n",
       "<style scoped>\n",
       "    .dataframe tbody tr th:only-of-type {\n",
       "        vertical-align: middle;\n",
       "    }\n",
       "\n",
       "    .dataframe tbody tr th {\n",
       "        vertical-align: top;\n",
       "    }\n",
       "\n",
       "    .dataframe thead th {\n",
       "        text-align: right;\n",
       "    }\n",
       "</style>\n",
       "<table border=\"1\" class=\"dataframe\">\n",
       "  <thead>\n",
       "    <tr style=\"text-align: right;\">\n",
       "      <th></th>\n",
       "      <th>Produtos</th>\n",
       "      <th>Valor</th>\n",
       "      <th>valor parcelado</th>\n",
       "    </tr>\n",
       "  </thead>\n",
       "  <tbody>\n",
       "    <tr>\n",
       "      <th>0</th>\n",
       "      <td>Placa de Vídeo RTX 4060 Ti OC Edition Asus TUF...</td>\n",
       "      <td>R$ 2.899,99</td>\n",
       "      <td>10x de R$ 341,17</td>\n",
       "    </tr>\n",
       "    <tr>\n",
       "      <th>1</th>\n",
       "      <td>Placa de Vídeo RTX 4060 8G V2 Gaming ATS OC AS...</td>\n",
       "      <td>R$ 2.199,99</td>\n",
       "      <td>10x de R$ 258,82</td>\n",
       "    </tr>\n",
       "    <tr>\n",
       "      <th>2</th>\n",
       "      <td>Placa de Vídeo RTX 3060 1-Click OC Galax NVIDI...</td>\n",
       "      <td>R$ 1.639,99</td>\n",
       "      <td>10x de R$ 192,94</td>\n",
       "    </tr>\n",
       "    <tr>\n",
       "      <th>3</th>\n",
       "      <td>Placa de Vídeo RX 6600 8G-V3 Dual ASUS AMD Rad...</td>\n",
       "      <td>R$ 1.299,99</td>\n",
       "      <td>10x de R$ 152,94</td>\n",
       "    </tr>\n",
       "    <tr>\n",
       "      <th>4</th>\n",
       "      <td>Placa de Vídeo RX 6750XT Gaming XFX Graphics C...</td>\n",
       "      <td>R$ 2.099,99</td>\n",
       "      <td>10x de R$ 247,05</td>\n",
       "    </tr>\n",
       "    <tr>\n",
       "      <th>...</th>\n",
       "      <td>...</td>\n",
       "      <td>...</td>\n",
       "      <td>...</td>\n",
       "    </tr>\n",
       "    <tr>\n",
       "      <th>695</th>\n",
       "      <td>Placa de Vídeo Gigabyte NVIDIA GeForce RTX 306...</td>\n",
       "      <td>NaN</td>\n",
       "      <td>NaN</td>\n",
       "    </tr>\n",
       "    <tr>\n",
       "      <th>696</th>\n",
       "      <td>Placa de Vídeo Gigabyte NVIDIA GeForce RTX 306...</td>\n",
       "      <td>NaN</td>\n",
       "      <td>NaN</td>\n",
       "    </tr>\n",
       "    <tr>\n",
       "      <th>697</th>\n",
       "      <td>Placa de Vídeo Gigabyte NVIDIA GeForce RTX 309...</td>\n",
       "      <td>NaN</td>\n",
       "      <td>NaN</td>\n",
       "    </tr>\n",
       "    <tr>\n",
       "      <th>698</th>\n",
       "      <td>Placa de Vídeo Gigabyte NVIDIA AORUS GeForce R...</td>\n",
       "      <td>NaN</td>\n",
       "      <td>NaN</td>\n",
       "    </tr>\n",
       "    <tr>\n",
       "      <th>699</th>\n",
       "      <td>Placa de Video Gigabyte Aorus Radeon RX6800 XT...</td>\n",
       "      <td>NaN</td>\n",
       "      <td>NaN</td>\n",
       "    </tr>\n",
       "  </tbody>\n",
       "</table>\n",
       "<p>700 rows × 3 columns</p>\n",
       "</div>"
      ],
      "text/plain": [
       "                                              Produtos        Valor  \\\n",
       "0    Placa de Vídeo RTX 4060 Ti OC Edition Asus TUF...  R$ 2.899,99   \n",
       "1    Placa de Vídeo RTX 4060 8G V2 Gaming ATS OC AS...  R$ 2.199,99   \n",
       "2    Placa de Vídeo RTX 3060 1-Click OC Galax NVIDI...  R$ 1.639,99   \n",
       "3    Placa de Vídeo RX 6600 8G-V3 Dual ASUS AMD Rad...  R$ 1.299,99   \n",
       "4    Placa de Vídeo RX 6750XT Gaming XFX Graphics C...  R$ 2.099,99   \n",
       "..                                                 ...          ...   \n",
       "695  Placa de Vídeo Gigabyte NVIDIA GeForce RTX 306...          NaN   \n",
       "696  Placa de Vídeo Gigabyte NVIDIA GeForce RTX 306...          NaN   \n",
       "697  Placa de Vídeo Gigabyte NVIDIA GeForce RTX 309...          NaN   \n",
       "698  Placa de Vídeo Gigabyte NVIDIA AORUS GeForce R...          NaN   \n",
       "699  Placa de Video Gigabyte Aorus Radeon RX6800 XT...          NaN   \n",
       "\n",
       "      valor parcelado  \n",
       "0    10x de R$ 341,17  \n",
       "1    10x de R$ 258,82  \n",
       "2    10x de R$ 192,94  \n",
       "3    10x de R$ 152,94  \n",
       "4    10x de R$ 247,05  \n",
       "..                ...  \n",
       "695               NaN  \n",
       "696               NaN  \n",
       "697               NaN  \n",
       "698               NaN  \n",
       "699               NaN  \n",
       "\n",
       "[700 rows x 3 columns]"
      ]
     },
     "execution_count": 135,
     "metadata": {},
     "output_type": "execute_result"
    }
   ],
   "source": [
    "dados"
   ]
  },
  {
   "cell_type": "code",
   "execution_count": 136,
   "metadata": {},
   "outputs": [],
   "source": [
    "df = dados.dropna()\n",
    "df = df.drop_duplicates()"
   ]
  },
  {
   "cell_type": "code",
   "execution_count": 137,
   "metadata": {},
   "outputs": [],
   "source": [
    "df2 = df.reset_index(drop=True)"
   ]
  },
  {
   "cell_type": "code",
   "execution_count": 138,
   "metadata": {},
   "outputs": [],
   "source": [
    "df2['Valor'] = df2['Valor'].str.replace('R$','').str.replace(',','').str.replace('.','')\n",
    "df2['valor parcelado'] = df2['valor parcelado'].str.replace('R$','').str.replace(',','').str.replace('.','').str.replace('de','').str.replace(' ','')\n",
    "df2['Valor'] = df2['Valor'].astype(float)\n",
    "df2[['parcela','valorparcela']] = df2['valor parcelado'].str.split('x', expand=True)\n",
    "df2['valorparcela'] = df2['valorparcela'].astype(float)\n",
    "df2['parcela'] = df2['parcela'].astype(float)\n",
    "df2['valor parcelado'] = df2['valorparcela'] * df2['parcela']\n",
    "df2[['Valor','valor parcelado']] = df2[['Valor','valor parcelado']] /100\n",
    "df2 = df2.drop(columns=['parcela','valorparcela'], axis=1)"
   ]
  },
  {
   "cell_type": "code",
   "execution_count": 139,
   "metadata": {},
   "outputs": [
    {
     "data": {
      "text/plain": [
       "Produtos            object\n",
       "Valor              float64\n",
       "valor parcelado    float64\n",
       "dtype: object"
      ]
     },
     "execution_count": 139,
     "metadata": {},
     "output_type": "execute_result"
    }
   ],
   "source": [
    "df2.dtypes"
   ]
  },
  {
   "cell_type": "code",
   "execution_count": 140,
   "metadata": {},
   "outputs": [],
   "source": [
    "Q1 = df2['Valor'].quantile(0.75)\n",
    "Q3 = df2['Valor'].quantile(0.25)\n",
    "Q4 = df2['valor parcelado'].quantile(0.75)\n",
    "Q5 = df2['valor parcelado'].quantile(0.25)\n",
    "\n",
    "df2 = df2[(df2['Valor'] >= Q3) & (df2['Valor'] <= Q1)]\n",
    "df2 = df2[(df2['valor parcelado'] >= Q5) & (df2['valor parcelado'] <= Q4)]"
   ]
  },
  {
   "cell_type": "code",
   "execution_count": 141,
   "metadata": {},
   "outputs": [],
   "source": [
    "df2['Produtos'] = df2['Produtos'].apply(lambda x: re.sub(r'[^a-zA-Z0-9]', '', unidecode(x)))"
   ]
  },
  {
   "cell_type": "code",
   "execution_count": null,
   "metadata": {},
   "outputs": [
    {
     "ename": "NameError",
     "evalue": "name 'df2' is not defined",
     "output_type": "error",
     "traceback": [
      "\u001b[0;31m---------------------------------------------------------------------------\u001b[0m",
      "\u001b[0;31mNameError\u001b[0m                                 Traceback (most recent call last)",
      "Cell \u001b[0;32mIn[1], line 1\u001b[0m\n\u001b[0;32m----> 1\u001b[0m \u001b[43mdf2\u001b[49m\u001b[38;5;241m.\u001b[39mto_csv(\u001b[38;5;124m'\u001b[39m\u001b[38;5;124m../1_bases_tratadas/Placa_de_Video.csv\u001b[39m\u001b[38;5;124m'\u001b[39m)\n",
      "\u001b[0;31mNameError\u001b[0m: name 'df2' is not defined"
     ]
    }
   ],
   "source": [
    "df2.to_csv('../1_bases_tratadas/Placa_de_Video.csv', sep = ';', index=False)"
   ]
  },
  {
   "cell_type": "code",
   "execution_count": 142,
   "metadata": {},
   "outputs": [
    {
     "name": "stdout",
     "output_type": "stream",
     "text": [
      "2024-11-22 16:58:18,762 INFO sqlalchemy.engine.Engine BEGIN (implicit)\n",
      "2024-11-22 16:58:18,763 INFO sqlalchemy.engine.Engine PRAGMA main.table_info(\"Dados\")\n",
      "2024-11-22 16:58:18,764 INFO sqlalchemy.engine.Engine [raw sql] ()\n",
      "2024-11-22 16:58:18,764 INFO sqlalchemy.engine.Engine PRAGMA main.table_info(\"Dados\")\n",
      "2024-11-22 16:58:18,764 INFO sqlalchemy.engine.Engine [raw sql] ()\n",
      "2024-11-22 16:58:18,765 INFO sqlalchemy.engine.Engine SELECT name FROM sqlite_master WHERE type='table' AND name NOT LIKE 'sqlite~_%' ESCAPE '~' ORDER BY name\n",
      "2024-11-22 16:58:18,765 INFO sqlalchemy.engine.Engine [raw sql] ()\n",
      "2024-11-22 16:58:18,766 INFO sqlalchemy.engine.Engine SELECT name FROM sqlite_master WHERE type='view' AND name NOT LIKE 'sqlite~_%' ESCAPE '~' ORDER BY name\n",
      "2024-11-22 16:58:18,767 INFO sqlalchemy.engine.Engine [raw sql] ()\n",
      "2024-11-22 16:58:18,771 INFO sqlalchemy.engine.Engine PRAGMA main.table_xinfo(\"Dados\")\n",
      "2024-11-22 16:58:18,772 INFO sqlalchemy.engine.Engine [raw sql] ()\n",
      "2024-11-22 16:58:18,775 INFO sqlalchemy.engine.Engine SELECT sql FROM  (SELECT * FROM sqlite_master UNION ALL   SELECT * FROM sqlite_temp_master) WHERE name = ? AND type in ('table', 'view')\n",
      "2024-11-22 16:58:18,776 INFO sqlalchemy.engine.Engine [raw sql] ('Dados',)\n",
      "2024-11-22 16:58:18,777 INFO sqlalchemy.engine.Engine PRAGMA main.foreign_key_list(\"Dados\")\n",
      "2024-11-22 16:58:18,777 INFO sqlalchemy.engine.Engine [raw sql] ()\n",
      "2024-11-22 16:58:18,777 INFO sqlalchemy.engine.Engine PRAGMA temp.foreign_key_list(\"Dados\")\n",
      "2024-11-22 16:58:18,778 INFO sqlalchemy.engine.Engine [raw sql] ()\n",
      "2024-11-22 16:58:18,778 INFO sqlalchemy.engine.Engine SELECT sql FROM  (SELECT * FROM sqlite_master UNION ALL   SELECT * FROM sqlite_temp_master) WHERE name = ? AND type in ('table', 'view')\n",
      "2024-11-22 16:58:18,778 INFO sqlalchemy.engine.Engine [raw sql] ('Dados',)\n",
      "2024-11-22 16:58:18,778 INFO sqlalchemy.engine.Engine PRAGMA main.index_list(\"Dados\")\n",
      "2024-11-22 16:58:18,779 INFO sqlalchemy.engine.Engine [raw sql] ()\n",
      "2024-11-22 16:58:18,779 INFO sqlalchemy.engine.Engine PRAGMA temp.index_list(\"Dados\")\n",
      "2024-11-22 16:58:18,779 INFO sqlalchemy.engine.Engine [raw sql] ()\n",
      "2024-11-22 16:58:18,779 INFO sqlalchemy.engine.Engine PRAGMA main.table_info(\"Dados\")\n",
      "2024-11-22 16:58:18,779 INFO sqlalchemy.engine.Engine [raw sql] ()\n",
      "2024-11-22 16:58:18,780 INFO sqlalchemy.engine.Engine PRAGMA main.index_list(\"Dados\")\n",
      "2024-11-22 16:58:18,780 INFO sqlalchemy.engine.Engine [raw sql] ()\n",
      "2024-11-22 16:58:18,780 INFO sqlalchemy.engine.Engine PRAGMA temp.index_list(\"Dados\")\n",
      "2024-11-22 16:58:18,780 INFO sqlalchemy.engine.Engine [raw sql] ()\n",
      "2024-11-22 16:58:18,781 INFO sqlalchemy.engine.Engine PRAGMA main.table_info(\"Dados\")\n",
      "2024-11-22 16:58:18,781 INFO sqlalchemy.engine.Engine [raw sql] ()\n",
      "2024-11-22 16:58:18,781 INFO sqlalchemy.engine.Engine SELECT sql FROM  (SELECT * FROM sqlite_master UNION ALL   SELECT * FROM sqlite_temp_master) WHERE name = ? AND type in ('table', 'view')\n",
      "2024-11-22 16:58:18,781 INFO sqlalchemy.engine.Engine [raw sql] ('Dados',)\n",
      "2024-11-22 16:58:18,782 INFO sqlalchemy.engine.Engine \n",
      "DROP TABLE \"Dados\"\n",
      "2024-11-22 16:58:18,782 INFO sqlalchemy.engine.Engine [no key 0.00022s] ()\n",
      "2024-11-22 16:58:18,784 INFO sqlalchemy.engine.Engine \n",
      "CREATE TABLE \"Dados\" (\n",
      "\t\"Produtos\" TEXT, \n",
      "\t\"Valor\" FLOAT, \n",
      "\t\"valor parcelado\" FLOAT\n",
      ")\n",
      "\n",
      "\n",
      "2024-11-22 16:58:18,785 INFO sqlalchemy.engine.Engine [no key 0.00108s] ()\n",
      "2024-11-22 16:58:18,787 INFO sqlalchemy.engine.Engine INSERT INTO \"Dados\" (\"Produtos\", \"Valor\", \"valor parcelado\") VALUES (?, ?, ?)\n",
      "2024-11-22 16:58:18,787 INFO sqlalchemy.engine.Engine [generated in 0.00061s] [('PlacadeVideoRTX4060TiOCEditionAsusTUFGamingNVIDIAGeForce8GBGDDR6ARGBDLSSTUFRTX4060TIO8GGAMING', 2899.99, 3411.7), ('PlacadeVideoRTX40608GV2GamingATSOCASUSNVIDIAGeForce8GBGDDR6DLSSRayTracingGSync90YV0JM2M0NA00', 2199.99, 2588.2), ('PlacadeVideoRTX30601ClickOCGalaxNVIDIAGeForce12GBGDDR6LHRDLSSRayTracing36NOL7MD1VOC', 1639.99, 1929.4), ('PlacadeVideoRX66008GV3DualASUSAMDRadeon8GBGDDR690YV0GP3M0NA00', 1299.99, 1529.4), ('PlacadeVideoRX6750XTGamingXFXGraphicsCardAMDRadeon12GBGDDR6RaytracingFidelityFXRX675TMBAF9', 2099.99, 2470.5), ('PlacadeVideoRTX40601ClickOC2XTecLabLiteGALAXNVIDIAGeForce8GBGDDR6GSYNCDLSSRayTracing', 1899.99, 2235.2), ('PlacadeVideoRX6650XTXFXSpeedsterSWFT210AMDRadeon8GBGDDR6HDMI3xDP2FANRX665X8DFDY', 1509.99, 1776.4), ('PlacadeVideoRX6600CLD8GASRockAMDRadeon8GBGDDR690GA2RZZ00UANF', 1299.99, 1529.4)  ... displaying 10 of 282 total bound parameter sets ...  ('BlocoVGABarrowParaRtx3080tiERtx3090MsiGamingTrioBsmsg3090mpa', 899.0, 899.0), ('PlacaDeVideoZotacGtx10302GbZtp10300a10l', 1181.9, 1181.9)]\n",
      "2024-11-22 16:58:18,788 INFO sqlalchemy.engine.Engine SELECT name FROM sqlite_master WHERE type='table' AND name NOT LIKE 'sqlite~_%' ESCAPE '~' ORDER BY name\n",
      "2024-11-22 16:58:18,789 INFO sqlalchemy.engine.Engine [raw sql] ()\n",
      "2024-11-22 16:58:18,789 INFO sqlalchemy.engine.Engine COMMIT\n"
     ]
    },
    {
     "data": {
      "text/plain": [
       "282"
      ]
     },
     "execution_count": 142,
     "metadata": {},
     "output_type": "execute_result"
    }
   ],
   "source": [
    "engine = create_engine('sqlite:///banco.db', echo = True)\n",
    "df2.to_sql('Dados', con  = engine, if_exists='replace', index=False)\n",
    "\n"
   ]
  },
  {
   "cell_type": "code",
   "execution_count": null,
   "metadata": {},
   "outputs": [],
   "source": []
  }
 ],
 "metadata": {
  "kernelspec": {
   "display_name": "Python 3",
   "language": "python",
   "name": "python3"
  },
  "language_info": {
   "codemirror_mode": {
    "name": "ipython",
    "version": 3
   },
   "file_extension": ".py",
   "mimetype": "text/x-python",
   "name": "python",
   "nbconvert_exporter": "python",
   "pygments_lexer": "ipython3",
   "version": "3.9.6"
  }
 },
 "nbformat": 4,
 "nbformat_minor": 2
}
